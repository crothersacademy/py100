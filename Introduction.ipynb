{
 "cells": [
  {
   "cell_type": "markdown",
   "metadata": {},
   "source": [
    "# Introduction to Python"
   ]
  },
  {
   "cell_type": "markdown",
   "metadata": {},
   "source": [
    "The purpose of this lesson is to really introduce you into programming through Python.\n",
    "\n",
    "Python is one of the fastest growing programming languages in the world, and is currently the third most popular language on the [Tiobe Index](https://www.tiobe.com/tiobe-index/).\n",
    "\n",
    "Some of the key concepts in this introduction we're going to work on are:\n",
    "* Variables\n",
    "* Types\n",
    "* Returns\n",
    "* Arithmetic\n",
    "* String Manipulation\n",
    "\n",
    "These are all really fundamental concepts of python, and will help teach your mind how to think about these concepts."
   ]
  },
  {
   "cell_type": "markdown",
   "metadata": {},
   "source": [
    "## Variables\n",
    "The first lesson is going to be variables in code, variables are ways of assigning data and using data within any programming language.\n",
    "\n",
    "Variables are critically important, without understanding a variable, you can't program anything.\n",
    "\n",
    "The good news is though, you already understand variables from previous algebra classes in High School, so this is more of a refresher than anything else. Let's talk about a simple example:"
   ]
  },
  {
   "cell_type": "code",
   "execution_count": 3,
   "metadata": {},
   "outputs": [],
   "source": [
    "A = 1\n",
    "B = 2"
   ]
  },
  {
   "cell_type": "code",
   "execution_count": 4,
   "metadata": {},
   "outputs": [],
   "source": [
    "C = A + B"
   ]
  },
  {
   "cell_type": "markdown",
   "metadata": {},
   "source": [
    "So in this example, you can see I created two variables, the variables `A` and `B`. I also assigned them values of `1` and `2` respectively. That's pretty straight forward, you can do other things like this too:"
   ]
  },
  {
   "cell_type": "code",
   "execution_count": 6,
   "metadata": {},
   "outputs": [],
   "source": [
    "name = \"Steven Crothers\""
   ]
  },
  {
   "cell_type": "markdown",
   "metadata": {},
   "source": [
    "Variables do not have to be numbers, they can be words or \"strings\" too. Pretty cool right?"
   ]
  },
  {
   "cell_type": "markdown",
   "metadata": {},
   "source": [
    "So going back to the other example, we have variable `A` and variable `B`, variable `A` has a value of `1` and variable `B` has a value of `2`.  Then, in the next line, I created variable `C` that equaled the value of `A + B`.\n",
    "\n",
    "I'm pretty sure you can guess at this point, but `C` should have a value of `3`. Let's check."
   ]
  },
  {
   "cell_type": "code",
   "execution_count": 7,
   "metadata": {},
   "outputs": [
    {
     "data": {
      "text/plain": [
       "3"
      ]
     },
     "execution_count": 7,
     "metadata": {},
     "output_type": "execute_result"
    }
   ],
   "source": [
    "C"
   ]
  },
  {
   "cell_type": "markdown",
   "metadata": {},
   "source": [
    "Perfect, I checked the value of `C` in the notebook, and it does in fact have the value of `3`! This is because every programming language also works as a really fancy calculator. Doing math in any programming language is really easy. We can do some other math examples too:"
   ]
  },
  {
   "cell_type": "code",
   "execution_count": 8,
   "metadata": {},
   "outputs": [
    {
     "data": {
      "text/plain": [
       "225"
      ]
     },
     "execution_count": 8,
     "metadata": {},
     "output_type": "execute_result"
    }
   ],
   "source": [
    "5 * 45"
   ]
  },
  {
   "cell_type": "code",
   "execution_count": 9,
   "metadata": {},
   "outputs": [
    {
     "data": {
      "text/plain": [
       "4.0"
      ]
     },
     "execution_count": 9,
     "metadata": {},
     "output_type": "execute_result"
    }
   ],
   "source": [
    "8 / 2"
   ]
  },
  {
   "cell_type": "code",
   "execution_count": 10,
   "metadata": {},
   "outputs": [
    {
     "data": {
      "text/plain": [
       "31"
      ]
     },
     "execution_count": 10,
     "metadata": {},
     "output_type": "execute_result"
    }
   ],
   "source": [
    "8 ^ 23"
   ]
  },
  {
   "cell_type": "code",
   "execution_count": 11,
   "metadata": {},
   "outputs": [
    {
     "data": {
      "text/plain": [
       "-33.333333333333336"
      ]
     },
     "execution_count": 11,
     "metadata": {},
     "output_type": "execute_result"
    }
   ],
   "source": [
    "(1+1) * 5 / 6 - (7 * 5)"
   ]
  },
  {
   "cell_type": "markdown",
   "metadata": {},
   "source": [
    "That $200 calculator you bought in High School or College could have been replaced with a free install of Python.\n",
    "\n",
    "![pikachu.jpg](https://i.imgur.com/sohWhy9.png)"
   ]
  },
  {
   "cell_type": "markdown",
   "metadata": {
    "slideshow": {
     "slide_type": "slide"
    }
   },
   "source": [
    "## Types\n",
    "\n",
    "Ok, variables are pretty easy, lets talk about types.\n",
    "\n",
    "There are a lot of different types in Python, lets talk about a few.\n",
    "* `string` A string is any word or group of words. If it's using letters, it is probably a string.\n",
    "* `integer` Any variable with a whole number like `3` or `51231` is an integer. Integers can also be strings, we'll get to that later though of course.\n",
    "* `float` Floats are \"floating point numbers\", so basically anything with a decimal like `3.14159`, Pi would be a good example of a `float`.\n",
    "* `bool` Bools or \"boolean\" types are simply true or false, on or off, yes or no.\n",
    "* `list` A list is exactly what it sounds like, a list! A list can have lots of things in it, a list of strings, a list of integers, or a mixture of everything.\n",
    "\n",
    "There are a lot more types than this, but, we don't want to overload your brain just yet, so this is what we're going to focus on."
   ]
  },
  {
   "cell_type": "code",
   "execution_count": 12,
   "metadata": {},
   "outputs": [
    {
     "data": {
      "text/plain": [
       "str"
      ]
     },
     "execution_count": 12,
     "metadata": {},
     "output_type": "execute_result"
    }
   ],
   "source": [
    "string = \"This is a string\"\n",
    "type(string)"
   ]
  },
  {
   "cell_type": "code",
   "execution_count": 14,
   "metadata": {},
   "outputs": [
    {
     "data": {
      "text/plain": [
       "int"
      ]
     },
     "execution_count": 14,
     "metadata": {},
     "output_type": "execute_result"
    }
   ],
   "source": [
    "integer = 69\n",
    "type(integer)"
   ]
  },
  {
   "cell_type": "code",
   "execution_count": 16,
   "metadata": {},
   "outputs": [
    {
     "data": {
      "text/plain": [
       "float"
      ]
     },
     "execution_count": 16,
     "metadata": {},
     "output_type": "execute_result"
    }
   ],
   "source": [
    "float = 3.14159\n",
    "type(float)"
   ]
  },
  {
   "cell_type": "code",
   "execution_count": 18,
   "metadata": {},
   "outputs": [
    {
     "data": {
      "text/plain": [
       "bool"
      ]
     },
     "execution_count": 18,
     "metadata": {},
     "output_type": "execute_result"
    }
   ],
   "source": [
    "beer = False\n",
    "type(beer)"
   ]
  },
  {
   "cell_type": "code",
   "execution_count": 19,
   "metadata": {},
   "outputs": [
    {
     "data": {
      "text/plain": [
       "list"
      ]
     },
     "execution_count": 19,
     "metadata": {},
     "output_type": "execute_result"
    }
   ],
   "source": [
    "groceries = ['milk', 'eggs', 'cereal']\n",
    "type(groceries)"
   ]
  },
  {
   "cell_type": "code",
   "execution_count": null,
   "metadata": {},
   "outputs": [],
   "source": []
  }
 ],
 "metadata": {
  "kernelspec": {
   "display_name": "Python 3",
   "language": "python",
   "name": "python3"
  },
  "language_info": {
   "codemirror_mode": {
    "name": "ipython",
    "version": 3
   },
   "file_extension": ".py",
   "mimetype": "text/x-python",
   "name": "python",
   "nbconvert_exporter": "python",
   "pygments_lexer": "ipython3",
   "version": "3.6.8"
  }
 },
 "nbformat": 4,
 "nbformat_minor": 4
}
